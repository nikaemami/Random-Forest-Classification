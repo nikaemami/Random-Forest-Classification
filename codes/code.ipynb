{
 "cells": [
  {
   "cell_type": "markdown",
   "metadata": {
    "id": "y3F-3DNuoci9"
   },
   "source": [
    "**Question 2:**\n",
    "\n",
    "**Part A, Decision Tree:**"
   ]
  },
  {
   "cell_type": "code",
   "execution_count": 1,
   "metadata": {
    "colab": {
     "base_uri": "https://localhost:8080/"
    },
    "id": "cTUjEZbKocri",
    "outputId": "0cbf678a-7011-44f1-87f6-16c08b52438f"
   },
   "outputs": [
    {
     "name": "stdout",
     "output_type": "stream",
     "text": [
      "Mounted at /content/drive\n"
     ]
    }
   ],
   "source": [
    "import pandas as pd\n",
    "import matplotlib.pyplot as plt\n",
    "import itertools\n",
    "import numpy as np\n",
    "from sklearn import preprocessing\n",
    "import random\n",
    "from google.colab import drive\n",
    "drive.mount('/content/drive')"
   ]
  },
  {
   "cell_type": "code",
   "execution_count": 2,
   "metadata": {
    "id": "0Qs1hjM509uC"
   },
   "outputs": [],
   "source": [
    "train = pd.read_csv('/content/drive/MyDrive/titanic-train.csv')"
   ]
  },
  {
   "cell_type": "markdown",
   "metadata": {
    "id": "FOadcR2yovfa"
   },
   "source": [
    "First, I implement a preprocessing on the data as below:"
   ]
  },
  {
   "cell_type": "code",
   "execution_count": 3,
   "metadata": {
    "id": "qE9x68Uc1D5P"
   },
   "outputs": [],
   "source": [
    "encoder = preprocessing.LabelEncoder()"
   ]
  },
  {
   "cell_type": "code",
   "execution_count": 4,
   "metadata": {
    "id": "-pPU_y4S1Ear"
   },
   "outputs": [],
   "source": [
    "def prepro(data, isTest):\n",
    "    try:\n",
    "        data['Age'] = data['Age'].fillna(data['Age'].median())\n",
    "        data['Fare'] = data['Fare'].fillna(data['Fare'].median())\n",
    "        data['Embarked'] = data['Embarked'].fillna('S')\n",
    "        data['Sex'] = encoder.fit_transform(data['Sex'])  \n",
    "    except KeyError as e:\n",
    "        print('Invalid preprocess')\n",
    "        print(e)\n",
    "    return data"
   ]
  },
  {
   "cell_type": "code",
   "execution_count": 5,
   "metadata": {
    "id": "L9vjz5oa1GLg"
   },
   "outputs": [],
   "source": [
    "train = prepro(train, True)"
   ]
  },
  {
   "cell_type": "code",
   "execution_count": 6,
   "metadata": {
    "id": "_qbWHHbT1MzD"
   },
   "outputs": [],
   "source": [
    "categorical_cols = [col for col in train.columns if\n",
    "                   train[col].nunique() < 10 and\n",
    "                   train[col].dtype == 'object'\n",
    "                   ]\n",
    "numerical_cols = [col for col in train.columns if train[col].dtype in ['int64', 'float64']]\n",
    "df = pd.get_dummies(train)"
   ]
  },
  {
   "cell_type": "code",
   "execution_count": 7,
   "metadata": {
    "id": "USZL-6OP1d_Q"
   },
   "outputs": [],
   "source": [
    "label = df['Survived']\n",
    "df = df.drop(['Survived'], axis=1)\n",
    "df = pd.concat([df,label],axis=1)"
   ]
  },
  {
   "cell_type": "markdown",
   "metadata": {
    "id": "y4jrBOiRsGkx"
   },
   "source": [
    "Next, I split the data into train and test sets as below:"
   ]
  },
  {
   "cell_type": "code",
   "execution_count": 8,
   "metadata": {
    "id": "G0q5aIvc1erw"
   },
   "outputs": [],
   "source": [
    "def split_dataset(X, y, split_size = 0.8):\n",
    "    size = len(X)\n",
    "    x_train = X[: int(size * split_size), :]\n",
    "    y_train = y[: int(size * split_size)]\n",
    "    x_test = X[int(size * split_size) :, :]\n",
    "    y_test = y[int(size * split_size) :]\n",
    "    return x_train, x_test, y_train, y_test  "
   ]
  },
  {
   "cell_type": "code",
   "execution_count": 9,
   "metadata": {
    "id": "AVs5ysGX1jn0"
   },
   "outputs": [],
   "source": [
    "X = df.iloc[:, :-1].values\n",
    "y = df.iloc[:, -1].values\n",
    "attributes = df.columns.values[:-1]\n",
    "x_train, x_test, y_train, y_test = split_dataset(X, y)"
   ]
  },
  {
   "cell_type": "markdown",
   "metadata": {
    "id": "Db-d9RcisOr7"
   },
   "source": [
    "Implementation of the decision tree using class in Python:"
   ]
  },
  {
   "cell_type": "code",
   "execution_count": 10,
   "metadata": {
    "id": "IgX9ys9-uyQS"
   },
   "outputs": [],
   "source": [
    "class Node:\n",
    "\n",
    "    def __init__(self, feature=None, threshold=None, left=None, right=None,*,value=None):\n",
    "        self.feature = feature\n",
    "        self.threshold = threshold\n",
    "        self.left = left\n",
    "        self.right = right\n",
    "        self.value = value\n",
    "        \n",
    "    def is_leaf_node(self):\n",
    "        return self.value is not None"
   ]
  },
  {
   "cell_type": "code",
   "execution_count": 11,
   "metadata": {
    "id": "zS1jJSHA1mn-"
   },
   "outputs": [],
   "source": [
    "class DecisionTree:\n",
    "\n",
    "    def __init__(self, min_samples_split=2, max_depth=100, n_features=None):\n",
    "        self.min_samples_split=min_samples_split\n",
    "        self.max_depth=max_depth\n",
    "        self.n_features=n_features\n",
    "        self.root=None\n",
    "\n",
    "    def _calcEntropy(self, y):\n",
    "        n = np.bincount(y)\n",
    "        prob = n / len(y)\n",
    "        entropy_ = - np.sum(prob * np.log2(prob))\n",
    "        return entropy_\n",
    "\n",
    "    def _calcInformationGain(self, y, X_column, threshold):\n",
    "        parent_entropy = self._calcEntropy(y)\n",
    "        left_idxs, right_idxs = self.split(X_column, threshold)\n",
    "        if len(left_idxs) == 0 or len(right_idxs) == 0:\n",
    "            return 0\n",
    "        n = len(y)\n",
    "        n_l, n_r = len(left_idxs), len(right_idxs)\n",
    "        e_l, e_r = self._calcEntropy(y[left_idxs]), self._calcEntropy(y[right_idxs])\n",
    "        child_entropy = (n_l/n) * e_l + (n_r/n) * e_r\n",
    "        information_gain = parent_entropy - child_entropy\n",
    "        return information_gain\n",
    "\n",
    "\n",
    "    def fit(self, X, Y):\n",
    "        self.n_features = X.shape[1] if not self.n_features else min(X.shape[1],self.n_features)\n",
    "        self.root = self.tree_add(X, Y)\n",
    "\n",
    "    def tree_add(self, X, Y, depth=0):\n",
    "        n_samples, n_feats = X.shape\n",
    "        n_labels = len(np.unique(Y))\n",
    "\n",
    "        if (depth>=self.max_depth or n_labels==1 or n_samples<self.min_samples_split):\n",
    "            leaf_value = self.most_common(Y)\n",
    "            return Node(value=leaf_value)\n",
    "\n",
    "        feat_idxs = np.random.choice(n_feats, self.n_features, replace=False)\n",
    "        best_feature, best_thresh = self.best_split(X, Y, feat_idxs)\n",
    "\n",
    "        left_idxs, right_idxs = self.split(X[:, best_feature], best_thresh)\n",
    "        left = self.tree_add(X[left_idxs, :], Y[left_idxs], depth+1)\n",
    "        right = self.tree_add(X[right_idxs, :], Y[right_idxs], depth+1)\n",
    "        return Node(best_feature, best_thresh, left, right)\n",
    "\n",
    "\n",
    "    def best_split(self, X, y, feat_idxs):\n",
    "        split_idx, split_threshold = None, None\n",
    "        best_gain = -1\n",
    "\n",
    "        for feat_idx in feat_idxs:\n",
    "            X_column = X[:, feat_idx]\n",
    "            thresholds = np.unique(X_column)\n",
    "\n",
    "            for thr in thresholds:\n",
    "                gain = self._calcInformationGain(y, X_column, thr)\n",
    "                if gain > best_gain:\n",
    "                    best_gain = gain\n",
    "                    split_idx = feat_idx\n",
    "                    split_threshold = thr\n",
    "\n",
    "        return split_idx, split_threshold\n",
    "\n",
    "    \n",
    "    def split(self, X_column, split_thresh):\n",
    "        left_idxs = np.argwhere(X_column <= split_thresh).flatten()\n",
    "        right_idxs = np.argwhere(X_column > split_thresh).flatten()\n",
    "        return left_idxs, right_idxs\n",
    "\n",
    "    def most_common(self, y):\n",
    "        labels, labels_count = np.unique(y, return_counts=True)\n",
    "        if len(labels) == 0:\n",
    "            return np.random.randint(0,2)\n",
    "        value = labels[np.argmax(labels_count)]\n",
    "        return value\n",
    "\n",
    "    def recursive_tree(self, x, node):\n",
    "        if node.is_leaf_node():\n",
    "            return node.value\n",
    "        if x[node.feature] <= node.threshold:\n",
    "            return self.recursive_tree(x, node.left)\n",
    "        else:\n",
    "            return self.recursive_tree(x, node.right)\n",
    "    \n",
    "    def predict(self, X):\n",
    "        return np.array([self.recursive_tree(x, self.root) for x in X])"
   ]
  },
  {
   "cell_type": "markdown",
   "metadata": {
    "id": "ZsvTKjrTvge9"
   },
   "source": [
    "Defining two functions for the Confusion Matrix:"
   ]
  },
  {
   "cell_type": "code",
   "execution_count": 12,
   "metadata": {
    "id": "yeW8T-b829Tx"
   },
   "outputs": [],
   "source": [
    "def confusion_matrix(y_test, y_pred):\n",
    "    matrix = np.array([[0,0],\n",
    "                  [0,0]])\n",
    "    for i in range(len(y_test)):\n",
    "        temp = [y_test[i],y_pred[i]]\n",
    "        if temp == [0,0]:\n",
    "            matrix[0][0]+=1\n",
    "        elif temp == [0,1]:\n",
    "            matrix[0][1]+=1\n",
    "        elif temp == [1,0]:\n",
    "            matrix[1][0]+=1\n",
    "        elif temp == [1,1]:\n",
    "            matrix[1][1]+=1\n",
    "    return matrix"
   ]
  },
  {
   "cell_type": "code",
   "execution_count": 13,
   "metadata": {
    "id": "HRzZYfgx1rkA"
   },
   "outputs": [],
   "source": [
    "def plot_confusion_matrix(cm, classes, normalize=False, title='Confusion matrix', cmap=plt.cm.Blues):\n",
    "\n",
    "    plt.imshow(cm, interpolation='nearest', cmap=cmap)\n",
    "    plt.title(title)\n",
    "    plt.colorbar()\n",
    "    tick_marks = np.arange(len(classes))\n",
    "    plt.xticks(tick_marks, classes)\n",
    "    plt.yticks(tick_marks, classes)\n",
    "    \n",
    "    if normalize:\n",
    "        cm = cm.astype('float') / cm.sum(axis=1)[:, np.newaxis]\n",
    "\n",
    "    thresh = cm.max() / 2.\n",
    "    for i, j in itertools.product(range(cm.shape[0]), range(cm.shape[1])):\n",
    "        plt.text(j, i, cm[i, j],\n",
    "                 horizontalalignment=\"center\",\n",
    "                 color=\"white\" if cm[i, j] > thresh else \"black\")\n",
    "    plt.tight_layout()\n",
    "    plt.ylabel('True label')\n",
    "    plt.xlabel('Predicted label')"
   ]
  },
  {
   "cell_type": "markdown",
   "metadata": {
    "id": "Ah6LxMJCvm47"
   },
   "source": [
    "Defining an evaluation function to calculate the accuracy and Confusion Matrix:"
   ]
  },
  {
   "cell_type": "code",
   "execution_count": 14,
   "metadata": {
    "id": "rdCrxrc1588A"
   },
   "outputs": [],
   "source": [
    "def result (depth, x_train, y_train, y_test):\n",
    "    clf = DecisionTree(max_depth = depth)\n",
    "    clf.fit(x_train, y_train)\n",
    "    y_pred = clf.predict(x_test)\n",
    "    accuracy = np.sum(y_pred == y_test) / len(y_pred) * 100\n",
    "    print('Accuracy = ',accuracy)\n",
    "    confusion_mtx = confusion_matrix(y_test, y_pred)\n",
    "    classes = np.unique(df.iloc[:, -1].values)\n",
    "    plot_confusion_matrix(confusion_mtx, classes)"
   ]
  },
  {
   "cell_type": "markdown",
   "metadata": {
    "id": "76nQ6QUbvztZ"
   },
   "source": [
    "For depth = 3:"
   ]
  },
  {
   "cell_type": "code",
   "execution_count": 15,
   "metadata": {
    "colab": {
     "base_uri": "https://localhost:8080/",
     "height": 398
    },
    "id": "JwLLMFiZ10oA",
    "outputId": "63a54e1c-6cd8-4f3c-f90d-d9f1d496b5c4"
   },
   "outputs": [
    {
     "name": "stderr",
     "output_type": "stream",
     "text": [
      "<ipython-input-11-c2d4d0d70466>:12: RuntimeWarning: divide by zero encountered in log2\n",
      "  entropy_ = - np.sum(prob * np.log2(prob))\n",
      "<ipython-input-11-c2d4d0d70466>:12: RuntimeWarning: invalid value encountered in multiply\n",
      "  entropy_ = - np.sum(prob * np.log2(prob))\n"
     ]
    },
    {
     "name": "stdout",
     "output_type": "stream",
     "text": [
      "Accuracy =  82.68156424581005\n"
     ]
    },
    {
     "data": {
      "image/png": "[encoded data removed]",
      "text/plain": [
       "<Figure size 432x288 with 2 Axes>"
      ]
     },
     "metadata": {
      "needs_background": "light"
     },
     "output_type": "display_data"
    }
   ],
   "source": [
    "depth = 3\n",
    "result (depth, x_train, y_train, y_test)"
   ]
  },
  {
   "cell_type": "markdown",
   "metadata": {
    "id": "Lo4E9qFlv3Jn"
   },
   "source": [
    "For depth = 5:"
   ]
  },
  {
   "cell_type": "code",
   "execution_count": 16,
   "metadata": {
    "colab": {
     "base_uri": "https://localhost:8080/",
     "height": 398
    },
    "id": "qUkGeod34LYc",
    "outputId": "4353bf41-4d93-4ddd-9900-64cb007648eb"
   },
   "outputs": [
    {
     "name": "stderr",
     "output_type": "stream",
     "text": [
      "<ipython-input-11-c2d4d0d70466>:12: RuntimeWarning: divide by zero encountered in log2\n",
      "  entropy_ = - np.sum(prob * np.log2(prob))\n",
      "<ipython-input-11-c2d4d0d70466>:12: RuntimeWarning: invalid value encountered in multiply\n",
      "  entropy_ = - np.sum(prob * np.log2(prob))\n"
     ]
    },
    {
     "name": "stdout",
     "output_type": "stream",
     "text": [
      "Accuracy =  83.79888268156425\n"
     ]
    },
    {
     "data": {
      "image/png": "[encoded data removed]",
      "text/plain": [
       "<Figure size 432x288 with 2 Axes>"
      ]
     },
     "metadata": {
      "needs_background": "light"
     },
     "output_type": "display_data"
    }
   ],
   "source": [
    "depth = 5\n",
    "result (depth, x_train, y_train, y_test)"
   ]
  },
  {
   "cell_type": "markdown",
   "metadata": {
    "id": "Q3Wv6Y5rv4nV"
   },
   "source": [
    "For depth = 7:"
   ]
  },
  {
   "cell_type": "code",
   "execution_count": 17,
   "metadata": {
    "colab": {
     "base_uri": "https://localhost:8080/",
     "height": 398
    },
    "id": "WMr_LttL6S8p",
    "outputId": "43ecb348-91e5-42f4-9ef8-f77970eedf93"
   },
   "outputs": [
    {
     "name": "stderr",
     "output_type": "stream",
     "text": [
      "<ipython-input-11-c2d4d0d70466>:12: RuntimeWarning: divide by zero encountered in log2\n",
      "  entropy_ = - np.sum(prob * np.log2(prob))\n",
      "<ipython-input-11-c2d4d0d70466>:12: RuntimeWarning: invalid value encountered in multiply\n",
      "  entropy_ = - np.sum(prob * np.log2(prob))\n"
     ]
    },
    {
     "name": "stdout",
     "output_type": "stream",
     "text": [
      "Accuracy =  81.56424581005587\n"
     ]
    },
    {
     "data": {
      "image/png": "[encoded data removed]",
      "text/plain": [
       "<Figure size 432x288 with 2 Axes>"
      ]
     },
     "metadata": {
      "needs_background": "light"
     },
     "output_type": "display_data"
    }
   ],
   "source": [
    "depth = 7\n",
    "result (depth, x_train, y_train, y_test)"
   ]
  },
  {
   "cell_type": "markdown",
   "metadata": {
    "id": "K0OktX_Uv6_q"
   },
   "source": [
    "For depth = 9:"
   ]
  },
  {
   "cell_type": "code",
   "execution_count": 18,
   "metadata": {
    "colab": {
     "base_uri": "https://localhost:8080/",
     "height": 398
    },
    "id": "CZ9VtCbC6VfT",
    "outputId": "0015af48-75ef-4510-c62b-a67666ffb82b"
   },
   "outputs": [
    {
     "name": "stderr",
     "output_type": "stream",
     "text": [
      "<ipython-input-11-c2d4d0d70466>:12: RuntimeWarning: divide by zero encountered in log2\n",
      "  entropy_ = - np.sum(prob * np.log2(prob))\n",
      "<ipython-input-11-c2d4d0d70466>:12: RuntimeWarning: invalid value encountered in multiply\n",
      "  entropy_ = - np.sum(prob * np.log2(prob))\n"
     ]
    },
    {
     "name": "stdout",
     "output_type": "stream",
     "text": [
      "Accuracy =  80.44692737430168\n"
     ]
    },
    {
     "data": {
      "image/png": "[encoded data removed]",
      "text/plain": [
       "<Figure size 432x288 with 2 Axes>"
      ]
     },
     "metadata": {
      "needs_background": "light"
     },
     "output_type": "display_data"
    }
   ],
   "source": [
    "depth = 9\n",
    "result (depth, x_train, y_train, y_test)"
   ]
  },
  {
   "cell_type": "markdown",
   "metadata": {
    "id": "Wb4N81txwAUH"
   },
   "source": [
    "For depth = 11:"
   ]
  },
  {
   "cell_type": "code",
   "execution_count": 19,
   "metadata": {
    "colab": {
     "base_uri": "https://localhost:8080/",
     "height": 398
    },
    "id": "1m2AUuv86YOu",
    "outputId": "66ffc7bd-d3ee-44a4-a936-3e0970b7d5f0"
   },
   "outputs": [
    {
     "name": "stderr",
     "output_type": "stream",
     "text": [
      "<ipython-input-11-c2d4d0d70466>:12: RuntimeWarning: divide by zero encountered in log2\n",
      "  entropy_ = - np.sum(prob * np.log2(prob))\n",
      "<ipython-input-11-c2d4d0d70466>:12: RuntimeWarning: invalid value encountered in multiply\n",
      "  entropy_ = - np.sum(prob * np.log2(prob))\n"
     ]
    },
    {
     "name": "stdout",
     "output_type": "stream",
     "text": [
      "Accuracy =  79.88826815642457\n"
     ]
    },
    {
     "data": {
      "image/png": "[encoded data removed]",
      "text/plain": [
       "<Figure size 432x288 with 2 Axes>"
      ]
     },
     "metadata": {
      "needs_background": "light"
     },
     "output_type": "display_data"
    }
   ],
   "source": [
    "depth = 11\n",
    "result (depth, x_train, y_train, y_test)"
   ]
  },
  {
   "cell_type": "markdown",
   "metadata": {
    "id": "YkWpgeEQwCyq"
   },
   "source": [
    "As we see, at some depth the algorithm overfits, and the accuracy does not improve constantly."
   ]
  },
  {
   "cell_type": "markdown",
   "metadata": {
    "id": "6L-Y1xXKwMfw"
   },
   "source": [
    "**Part B:**\n",
    "\n",
    "**Random Forest**"
   ]
  },
  {
   "cell_type": "markdown",
   "metadata": {
    "id": "7evVXLOIwS_3"
   },
   "source": [
    "Functions for implementation of the Random Forest, and evaluating the results:"
   ]
  },
  {
   "cell_type": "code",
   "execution_count": 20,
   "metadata": {
    "id": "GuN4zkxvDnho"
   },
   "outputs": [],
   "source": [
    "def RandomForest(x_train, y_train, x_test, num_tree):\n",
    "  y_pred = np.zeros((len(y_test),num_tree))\n",
    "  for i in range (num_tree):\n",
    "    new_tree = DecisionTree(max_depth = random.randint(3, 9))\n",
    "    new_tree.fit(x_train,y_train)\n",
    "    y_pred[:,i] = new_tree.predict(x_test)\n",
    "\n",
    "  y_predicted = np.zeros(len(y_test))\n",
    "  for i in range(len(x_test)):\n",
    "    unique_vals, counts = np.unique(y_pred[i], return_counts = True)\n",
    "    y_predicted[i] = unique_vals[np.argmax(counts)]\n",
    "  return y_predicted\n",
    "    "
   ]
  },
  {
   "cell_type": "code",
   "execution_count": 21,
   "metadata": {
    "id": "YH6PqJAaARk-"
   },
   "outputs": [],
   "source": [
    "def RandomForest_result (num_tree, x_train, y_train, y_test):\n",
    "  y_pred = RandomForest(x_train, y_train, x_test, num_tree)\n",
    "  accuracy = np.sum(y_pred == y_test) / len(y_pred) * 100\n",
    "  print('Accuracy = ',accuracy)\n",
    "  confusion_mtx = confusion_matrix(y_test, y_pred)\n",
    "  classes = np.unique(df.iloc[:, -1].values)\n",
    "  plot_confusion_matrix(confusion_mtx, classes)"
   ]
  },
  {
   "cell_type": "markdown",
   "metadata": {
    "id": "HvIB6ROLwf6K"
   },
   "source": [
    "For num_tree = 3:"
   ]
  },
  {
   "cell_type": "code",
   "execution_count": 22,
   "metadata": {
    "colab": {
     "base_uri": "https://localhost:8080/",
     "height": 398
    },
    "id": "CizxeJQSAy_Z",
    "outputId": "c34171ab-e272-4834-919d-3c0fc75ec8e9"
   },
   "outputs": [
    {
     "name": "stderr",
     "output_type": "stream",
     "text": [
      "<ipython-input-11-c2d4d0d70466>:12: RuntimeWarning: divide by zero encountered in log2\n",
      "  entropy_ = - np.sum(prob * np.log2(prob))\n",
      "<ipython-input-11-c2d4d0d70466>:12: RuntimeWarning: invalid value encountered in multiply\n",
      "  entropy_ = - np.sum(prob * np.log2(prob))\n"
     ]
    },
    {
     "name": "stdout",
     "output_type": "stream",
     "text": [
      "Accuracy =  83.24022346368714\n"
     ]
    },
    {
     "data": {
      "image/png": "[encoded data removed]",
      "text/plain": [
       "<Figure size 432x288 with 2 Axes>"
      ]
     },
     "metadata": {
      "needs_background": "light"
     },
     "output_type": "display_data"
    }
   ],
   "source": [
    "num_tree = 3\n",
    "RandomForest_result (num_tree, x_train, y_train, y_test)"
   ]
  },
  {
   "cell_type": "markdown",
   "metadata": {
    "id": "zEnrjFcAwjzr"
   },
   "source": [
    "For num_tree = 5:"
   ]
  },
  {
   "cell_type": "code",
   "execution_count": 23,
   "metadata": {
    "colab": {
     "base_uri": "https://localhost:8080/",
     "height": 398
    },
    "id": "o-udyy_ZBgL-",
    "outputId": "b894d095-f716-4f21-bfae-b450154a4ce0"
   },
   "outputs": [
    {
     "name": "stderr",
     "output_type": "stream",
     "text": [
      "<ipython-input-11-c2d4d0d70466>:12: RuntimeWarning: divide by zero encountered in log2\n",
      "  entropy_ = - np.sum(prob * np.log2(prob))\n",
      "<ipython-input-11-c2d4d0d70466>:12: RuntimeWarning: invalid value encountered in multiply\n",
      "  entropy_ = - np.sum(prob * np.log2(prob))\n"
     ]
    },
    {
     "name": "stdout",
     "output_type": "stream",
     "text": [
      "Accuracy =  81.56424581005587\n"
     ]
    },
    {
     "data": {
      "image/png": "[encoded data removed]",
      "text/plain": [
       "<Figure size 432x288 with 2 Axes>"
      ]
     },
     "metadata": {
      "needs_background": "light"
     },
     "output_type": "display_data"
    }
   ],
   "source": [
    "num_tree = 5\n",
    "RandomForest_result (num_tree, x_train, y_train, y_test)"
   ]
  },
  {
   "cell_type": "markdown",
   "metadata": {
    "id": "b-WyGRFIwlV8"
   },
   "source": [
    "For num_tree = 7:"
   ]
  },
  {
   "cell_type": "code",
   "execution_count": 24,
   "metadata": {
    "colab": {
     "base_uri": "https://localhost:8080/",
     "height": 398
    },
    "id": "6VG5QDmkBgrM",
    "outputId": "cf71bf26-a574-4e81-b542-c66670606dc0"
   },
   "outputs": [
    {
     "name": "stderr",
     "output_type": "stream",
     "text": [
      "<ipython-input-11-c2d4d0d70466>:12: RuntimeWarning: divide by zero encountered in log2\n",
      "  entropy_ = - np.sum(prob * np.log2(prob))\n",
      "<ipython-input-11-c2d4d0d70466>:12: RuntimeWarning: invalid value encountered in multiply\n",
      "  entropy_ = - np.sum(prob * np.log2(prob))\n"
     ]
    },
    {
     "name": "stdout",
     "output_type": "stream",
     "text": [
      "Accuracy =  83.79888268156425\n"
     ]
    },
    {
     "data": {
      "image/png": "[encoded data removed]",
      "text/plain": [
       "<Figure size 432x288 with 2 Axes>"
      ]
     },
     "metadata": {
      "needs_background": "light"
     },
     "output_type": "display_data"
    }
   ],
   "source": [
    "num_tree = 7\n",
    "RandomForest_result (num_tree, x_train, y_train, y_test)"
   ]
  },
  {
   "cell_type": "markdown",
   "metadata": {
    "id": "qrevgTv8wp4e"
   },
   "source": [
    "As we see, by increasing the number of trees, the accuracy improves, which is expected in the ensemble learning algorithms."
   ]
  }
 ],
 "metadata": {
  "colab": {
   "provenance": []
  },
  "kernelspec": {
   "display_name": "Python 3",
   "language": "python",
   "name": "python3"
  },
  "language_info": {
   "codemirror_mode": {
    "name": "ipython",
    "version": 3
   },
   "file_extension": ".py",
   "mimetype": "text/x-python",
   "name": "python",
   "nbconvert_exporter": "python",
   "pygments_lexer": "ipython3",
   "version": "3.8.5"
  }
 },
 "nbformat": 4,
 "nbformat_minor": 1
}
